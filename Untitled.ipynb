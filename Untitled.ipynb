{
 "cells": [
  {
   "cell_type": "markdown",
   "id": "beb29041",
   "metadata": {},
   "source": [
    "# Loan v1"
   ]
  },
  {
   "cell_type": "code",
   "execution_count": 96,
   "id": "98d5f06c",
   "metadata": {},
   "outputs": [
    {
     "ename": "ModuleNotFoundError",
     "evalue": "No module named 'xgboost'",
     "output_type": "error",
     "traceback": [
      "\u001b[1;31m---------------------------------------------------------------------------\u001b[0m",
      "\u001b[1;31mModuleNotFoundError\u001b[0m                       Traceback (most recent call last)",
      "\u001b[1;32m<ipython-input-96-7dba88bcc8dd>\u001b[0m in \u001b[0;36m<module>\u001b[1;34m\u001b[0m\n\u001b[0;32m     12\u001b[0m \u001b[1;32mfrom\u001b[0m \u001b[0msklearn\u001b[0m\u001b[1;33m.\u001b[0m\u001b[0mmetrics\u001b[0m \u001b[1;32mimport\u001b[0m \u001b[0mroc_curve\u001b[0m\u001b[1;33m,\u001b[0m \u001b[0mauc\u001b[0m \u001b[1;33m,\u001b[0m \u001b[0mprecision_score\u001b[0m \u001b[1;33m,\u001b[0m \u001b[0mclassification_report\u001b[0m\u001b[1;33m\u001b[0m\u001b[1;33m\u001b[0m\u001b[0m\n\u001b[0;32m     13\u001b[0m \u001b[1;32mfrom\u001b[0m \u001b[0msklearn\u001b[0m\u001b[1;33m.\u001b[0m\u001b[0mlinear_model\u001b[0m \u001b[1;32mimport\u001b[0m \u001b[0mLogisticRegression\u001b[0m\u001b[1;33m\u001b[0m\u001b[1;33m\u001b[0m\u001b[0m\n\u001b[1;32m---> 14\u001b[1;33m \u001b[1;32mfrom\u001b[0m \u001b[0mxgboost\u001b[0m \u001b[1;32mimport\u001b[0m \u001b[0mXGBClassifier\u001b[0m\u001b[1;33m\u001b[0m\u001b[1;33m\u001b[0m\u001b[0m\n\u001b[0m\u001b[0;32m     15\u001b[0m \u001b[1;32mfrom\u001b[0m \u001b[0msklearn\u001b[0m\u001b[1;33m.\u001b[0m\u001b[0mtree\u001b[0m \u001b[1;32mimport\u001b[0m \u001b[0mDecisionTreeClassifier\u001b[0m\u001b[1;33m\u001b[0m\u001b[1;33m\u001b[0m\u001b[0m\n\u001b[0;32m     16\u001b[0m \u001b[1;32mfrom\u001b[0m \u001b[0msklearn\u001b[0m\u001b[1;33m.\u001b[0m\u001b[0mensemble\u001b[0m \u001b[1;32mimport\u001b[0m \u001b[0mAdaBoostClassifier\u001b[0m\u001b[1;33m\u001b[0m\u001b[1;33m\u001b[0m\u001b[0m\n",
      "\u001b[1;31mModuleNotFoundError\u001b[0m: No module named 'xgboost'"
     ]
    }
   ],
   "source": [
    "import pandas as pd\n",
    "from sklearn.model_selection import train_test_split\n",
    "import matplotlib.pyplot as plt\n",
    "import numpy as np\n",
    "from sklearn.metrics import log_loss, confusion_matrix\n",
    "import seaborn as sns\n",
    "from sklearn.preprocessing import StandardScaler\n",
    "from sklearn.neighbors import KNeighborsClassifier\n",
    "from sklearn.linear_model import SGDClassifier\n",
    "from sklearn.ensemble import RandomForestClassifier\n",
    "from sklearn.model_selection import GridSearchCV\n",
    "from sklearn.metrics import roc_curve, auc , precision_score , classification_report\n",
    "from sklearn.linear_model import LogisticRegression\n",
    "from xgboost import XGBClassifier\n",
    "from sklearn.tree import DecisionTreeClassifier\n",
    "from sklearn.ensemble import AdaBoostClassifier\n",
    "import warnings\n",
    "warnings.filterwarnings('ignore')\n",
    "import warnings\n",
    "warnings.filterwarnings('ignore')\n",
    "import pandas as pd\n",
    "import matplotlib.pyplot as plt\n",
    "import re\n",
    "import time\n",
    "import warnings\n",
    "import numpy as np\n",
    "import seaborn as sns\n",
    "from sklearn.neighbors import KNeighborsClassifier\n",
    "from sklearn.metrics import confusion_matrix\n",
    "from sklearn.metrics.classification import accuracy_score, log_loss\n",
    "from sklearn.linear_model import SGDClassifier\n",
    "from imblearn.over_sampling import SMOTE\n",
    "from sklearn.multiclass import OneVsRestClassifier\n",
    "from sklearn.svm import SVC\n",
    "from sklearn.model_selection import KFold\n",
    "from collections import Counter, defaultdict\n",
    "from sklearn.calibration import CalibratedClassifierCV\n",
    "from sklearn.naive_bayes import MultinomialNB\n",
    "from sklearn.naive_bayes import GaussianNB\n",
    "from sklearn.model_selection import train_test_split\n",
    "from sklearn.model_selection import GridSearchCV\n",
    "import math\n",
    "from sklearn.metrics import normalized_mutual_info_score\n",
    "from sklearn.ensemble import RandomForestClassifier\n",
    "warnings.filterwarnings(\"ignore\")\n",
    "from mlxtend.classifier import StackingClassifier\n",
    "from sklearn import model_selection\n",
    "from sklearn.linear_model import LogisticRegression\n",
    "from scipy.stats import stats"
   ]
  },
  {
   "cell_type": "code",
   "execution_count": 125,
   "id": "d7db29dd",
   "metadata": {},
   "outputs": [],
   "source": [
    "import pandas as pd\n",
    "import matplotlib.pyplot as plt\n",
    "import re\n",
    "import time\n",
    "import warnings\n",
    "import numpy as np\n",
    "from nltk.corpus import stopwords\n",
    "from sklearn.decomposition import TruncatedSVD\n",
    "from sklearn.preprocessing import normalize\n",
    "from sklearn.feature_extraction.text import CountVectorizer\n",
    "from sklearn.manifold import TSNE\n",
    "import seaborn as sns\n",
    "from sklearn.neighbors import KNeighborsClassifier\n",
    "from sklearn.metrics import confusion_matrix\n",
    "from sklearn.metrics import accuracy_score, log_loss"
   ]
  },
  {
   "cell_type": "code",
   "execution_count": 128,
   "id": "8ffa5316",
   "metadata": {},
   "outputs": [],
   "source": [
    "from sklearn.feature_extraction.text import TfidfVectorizer\n",
    "from sklearn.linear_model import SGDClassifier\n",
    "from collections import Counter\n",
    "from scipy.sparse import hstack\n",
    "from sklearn.multiclass import OneVsRestClassifier\n",
    "from sklearn.svm import SVC\n",
    "from sklearn.model_selection import StratifiedKFold \n",
    "from collections import Counter, defaultdict\n",
    "from sklearn.calibration import CalibratedClassifierCV\n",
    "from sklearn.naive_bayes import MultinomialNB\n",
    "from sklearn.naive_bayes import GaussianNB\n",
    "from sklearn.model_selection import train_test_split\n",
    "from sklearn.model_selection import GridSearchCV\n",
    "import math\n",
    "from sklearn.metrics import normalized_mutual_info_score\n",
    "from sklearn.ensemble import RandomForestClassifier\n",
    "warnings.filterwarnings(\"ignore\")\n",
    "\n",
    "\n",
    "from sklearn import model_selection\n",
    "from sklearn.linear_model import LogisticRegression"
   ]
  },
  {
   "cell_type": "code",
   "execution_count": 186,
   "id": "7803494f",
   "metadata": {},
   "outputs": [
    {
     "data": {
      "text/plain": [
       "0    61222\n",
       "1     6241\n",
       "Name: Loan Status, dtype: int64"
      ]
     },
     "execution_count": 186,
     "metadata": {},
     "output_type": "execute_result"
    }
   ],
   "source": [
    "data['Loan Status'].value_counts()"
   ]
  },
  {
   "cell_type": "code",
   "execution_count": null,
   "id": "4d6e45f6",
   "metadata": {},
   "outputs": [],
   "source": []
  },
  {
   "cell_type": "code",
   "execution_count": 189,
   "id": "bd7e4158",
   "metadata": {},
   "outputs": [
    {
     "data": {
      "text/plain": [
       "array([9.534, 9.534, 9.534, ..., 9.534, 9.534, 9.534])"
      ]
     },
     "execution_count": 189,
     "metadata": {},
     "output_type": "execute_result"
    }
   ],
   "source": [
    "#https://stackoverflow.com/questions/42192227/xgboost-python-classifier-class-weight-option\n",
    "from sklearn.utils import class_weight\n",
    "class_weights = list(class_weight.compute_class_weight({0:'0.10194',1:'9.534'},np.unique(data['Loan Status']),data['Loan Status']))\n",
    "\n",
    "w_array = np.ones(y_train.shape[0], dtype = 'float')\n",
    "for i, val in enumerate(y_train):\n",
    "    w_array[i] = class_weights[val-1]\n",
    "w_array"
   ]
  },
  {
   "cell_type": "code",
   "execution_count": 76,
   "id": "073b8aa3",
   "metadata": {},
   "outputs": [],
   "source": [
    "pd.set_option('display.max_columns', None)"
   ]
  },
  {
   "cell_type": "code",
   "execution_count": 86,
   "id": "2629648f",
   "metadata": {},
   "outputs": [
    {
     "data": {
      "text/html": [
       "<div>\n",
       "<style scoped>\n",
       "    .dataframe tbody tr th:only-of-type {\n",
       "        vertical-align: middle;\n",
       "    }\n",
       "\n",
       "    .dataframe tbody tr th {\n",
       "        vertical-align: top;\n",
       "    }\n",
       "\n",
       "    .dataframe thead th {\n",
       "        text-align: right;\n",
       "    }\n",
       "</style>\n",
       "<table border=\"1\" class=\"dataframe\">\n",
       "  <thead>\n",
       "    <tr style=\"text-align: right;\">\n",
       "      <th></th>\n",
       "      <th>Loan Amount</th>\n",
       "      <th>Funded Amount</th>\n",
       "      <th>Funded Amount Investor</th>\n",
       "      <th>Term</th>\n",
       "      <th>Batch Enrolled</th>\n",
       "      <th>Interest Rate</th>\n",
       "      <th>Grade</th>\n",
       "      <th>Sub Grade</th>\n",
       "      <th>Employment Duration</th>\n",
       "      <th>Home Ownership</th>\n",
       "      <th>Verification Status</th>\n",
       "      <th>Debit to Income</th>\n",
       "      <th>Delinquency - two years</th>\n",
       "      <th>Inquires - six months</th>\n",
       "      <th>Open Account</th>\n",
       "      <th>Public Record</th>\n",
       "      <th>Revolving Balance</th>\n",
       "      <th>Revolving Utilities</th>\n",
       "      <th>Total Accounts</th>\n",
       "      <th>Initial List Status</th>\n",
       "      <th>Total Received Interest</th>\n",
       "      <th>Total Received Late Fee</th>\n",
       "      <th>Recoveries</th>\n",
       "      <th>Collection Recovery Fee</th>\n",
       "      <th>Collection 12 months Medical</th>\n",
       "      <th>Application Type</th>\n",
       "      <th>Last week Pay</th>\n",
       "      <th>Accounts Delinquent</th>\n",
       "      <th>Total Collection Amount</th>\n",
       "      <th>Total Current Balance</th>\n",
       "      <th>Total Revolving Credit Limit</th>\n",
       "      <th>Loan Status</th>\n",
       "    </tr>\n",
       "  </thead>\n",
       "  <tbody>\n",
       "    <tr>\n",
       "      <th>0</th>\n",
       "      <td>10000</td>\n",
       "      <td>32236</td>\n",
       "      <td>12329.36286</td>\n",
       "      <td>59</td>\n",
       "      <td>BAT2522922</td>\n",
       "      <td>11.135007</td>\n",
       "      <td>B</td>\n",
       "      <td>C4</td>\n",
       "      <td>MORTGAGE</td>\n",
       "      <td>176346.62670</td>\n",
       "      <td>Not Verified</td>\n",
       "      <td>16.284758</td>\n",
       "      <td>1</td>\n",
       "      <td>0</td>\n",
       "      <td>13</td>\n",
       "      <td>0</td>\n",
       "      <td>24246</td>\n",
       "      <td>74.932551</td>\n",
       "      <td>7</td>\n",
       "      <td>w</td>\n",
       "      <td>2929.646315</td>\n",
       "      <td>0.102055</td>\n",
       "      <td>2.498291</td>\n",
       "      <td>0.793724</td>\n",
       "      <td>0</td>\n",
       "      <td>INDIVIDUAL</td>\n",
       "      <td>49</td>\n",
       "      <td>0</td>\n",
       "      <td>31</td>\n",
       "      <td>311301</td>\n",
       "      <td>6619</td>\n",
       "      <td>0</td>\n",
       "    </tr>\n",
       "    <tr>\n",
       "      <th>1</th>\n",
       "      <td>3609</td>\n",
       "      <td>11940</td>\n",
       "      <td>12191.99692</td>\n",
       "      <td>59</td>\n",
       "      <td>BAT1586599</td>\n",
       "      <td>12.237563</td>\n",
       "      <td>C</td>\n",
       "      <td>D3</td>\n",
       "      <td>RENT</td>\n",
       "      <td>39833.92100</td>\n",
       "      <td>Source Verified</td>\n",
       "      <td>15.412409</td>\n",
       "      <td>0</td>\n",
       "      <td>0</td>\n",
       "      <td>12</td>\n",
       "      <td>0</td>\n",
       "      <td>812</td>\n",
       "      <td>78.297186</td>\n",
       "      <td>13</td>\n",
       "      <td>f</td>\n",
       "      <td>772.769385</td>\n",
       "      <td>0.036181</td>\n",
       "      <td>2.377215</td>\n",
       "      <td>0.974821</td>\n",
       "      <td>0</td>\n",
       "      <td>INDIVIDUAL</td>\n",
       "      <td>109</td>\n",
       "      <td>0</td>\n",
       "      <td>53</td>\n",
       "      <td>182610</td>\n",
       "      <td>20885</td>\n",
       "      <td>0</td>\n",
       "    </tr>\n",
       "    <tr>\n",
       "      <th>2</th>\n",
       "      <td>28276</td>\n",
       "      <td>9311</td>\n",
       "      <td>21603.22455</td>\n",
       "      <td>59</td>\n",
       "      <td>BAT2136391</td>\n",
       "      <td>12.545884</td>\n",
       "      <td>F</td>\n",
       "      <td>D4</td>\n",
       "      <td>MORTGAGE</td>\n",
       "      <td>91506.69105</td>\n",
       "      <td>Source Verified</td>\n",
       "      <td>28.137619</td>\n",
       "      <td>0</td>\n",
       "      <td>0</td>\n",
       "      <td>14</td>\n",
       "      <td>0</td>\n",
       "      <td>1843</td>\n",
       "      <td>2.073040</td>\n",
       "      <td>20</td>\n",
       "      <td>w</td>\n",
       "      <td>863.324396</td>\n",
       "      <td>18.778660</td>\n",
       "      <td>4.316277</td>\n",
       "      <td>1.020075</td>\n",
       "      <td>0</td>\n",
       "      <td>INDIVIDUAL</td>\n",
       "      <td>66</td>\n",
       "      <td>0</td>\n",
       "      <td>34</td>\n",
       "      <td>89801</td>\n",
       "      <td>26155</td>\n",
       "      <td>0</td>\n",
       "    </tr>\n",
       "    <tr>\n",
       "      <th>3</th>\n",
       "      <td>11170</td>\n",
       "      <td>6954</td>\n",
       "      <td>17877.15585</td>\n",
       "      <td>59</td>\n",
       "      <td>BAT2428731</td>\n",
       "      <td>16.731201</td>\n",
       "      <td>C</td>\n",
       "      <td>C3</td>\n",
       "      <td>MORTGAGE</td>\n",
       "      <td>108286.57590</td>\n",
       "      <td>Source Verified</td>\n",
       "      <td>18.043730</td>\n",
       "      <td>1</td>\n",
       "      <td>0</td>\n",
       "      <td>7</td>\n",
       "      <td>0</td>\n",
       "      <td>13819</td>\n",
       "      <td>67.467951</td>\n",
       "      <td>12</td>\n",
       "      <td>w</td>\n",
       "      <td>288.173196</td>\n",
       "      <td>0.044131</td>\n",
       "      <td>0.107020</td>\n",
       "      <td>0.749971</td>\n",
       "      <td>0</td>\n",
       "      <td>INDIVIDUAL</td>\n",
       "      <td>39</td>\n",
       "      <td>0</td>\n",
       "      <td>40</td>\n",
       "      <td>9189</td>\n",
       "      <td>60214</td>\n",
       "      <td>0</td>\n",
       "    </tr>\n",
       "    <tr>\n",
       "      <th>4</th>\n",
       "      <td>16890</td>\n",
       "      <td>13226</td>\n",
       "      <td>13539.92667</td>\n",
       "      <td>59</td>\n",
       "      <td>BAT5341619</td>\n",
       "      <td>15.008300</td>\n",
       "      <td>C</td>\n",
       "      <td>D4</td>\n",
       "      <td>MORTGAGE</td>\n",
       "      <td>44234.82545</td>\n",
       "      <td>Source Verified</td>\n",
       "      <td>17.209886</td>\n",
       "      <td>1</td>\n",
       "      <td>3</td>\n",
       "      <td>13</td>\n",
       "      <td>1</td>\n",
       "      <td>1544</td>\n",
       "      <td>85.250761</td>\n",
       "      <td>22</td>\n",
       "      <td>w</td>\n",
       "      <td>129.239553</td>\n",
       "      <td>19.306646</td>\n",
       "      <td>1294.818751</td>\n",
       "      <td>0.368953</td>\n",
       "      <td>0</td>\n",
       "      <td>INDIVIDUAL</td>\n",
       "      <td>18</td>\n",
       "      <td>0</td>\n",
       "      <td>430</td>\n",
       "      <td>126029</td>\n",
       "      <td>22579</td>\n",
       "      <td>0</td>\n",
       "    </tr>\n",
       "  </tbody>\n",
       "</table>\n",
       "</div>"
      ],
      "text/plain": [
       "   Loan Amount  Funded Amount  Funded Amount Investor  Term Batch Enrolled  \\\n",
       "0        10000          32236             12329.36286    59     BAT2522922   \n",
       "1         3609          11940             12191.99692    59     BAT1586599   \n",
       "2        28276           9311             21603.22455    59     BAT2136391   \n",
       "3        11170           6954             17877.15585    59     BAT2428731   \n",
       "4        16890          13226             13539.92667    59     BAT5341619   \n",
       "\n",
       "   Interest Rate Grade Sub Grade Employment Duration  Home Ownership  \\\n",
       "0      11.135007     B        C4            MORTGAGE    176346.62670   \n",
       "1      12.237563     C        D3                RENT     39833.92100   \n",
       "2      12.545884     F        D4            MORTGAGE     91506.69105   \n",
       "3      16.731201     C        C3            MORTGAGE    108286.57590   \n",
       "4      15.008300     C        D4            MORTGAGE     44234.82545   \n",
       "\n",
       "  Verification Status  Debit to Income  Delinquency - two years  \\\n",
       "0        Not Verified        16.284758                        1   \n",
       "1     Source Verified        15.412409                        0   \n",
       "2     Source Verified        28.137619                        0   \n",
       "3     Source Verified        18.043730                        1   \n",
       "4     Source Verified        17.209886                        1   \n",
       "\n",
       "   Inquires - six months  Open Account  Public Record  Revolving Balance  \\\n",
       "0                      0            13              0              24246   \n",
       "1                      0            12              0                812   \n",
       "2                      0            14              0               1843   \n",
       "3                      0             7              0              13819   \n",
       "4                      3            13              1               1544   \n",
       "\n",
       "   Revolving Utilities  Total Accounts Initial List Status  \\\n",
       "0            74.932551               7                   w   \n",
       "1            78.297186              13                   f   \n",
       "2             2.073040              20                   w   \n",
       "3            67.467951              12                   w   \n",
       "4            85.250761              22                   w   \n",
       "\n",
       "   Total Received Interest  Total Received Late Fee   Recoveries  \\\n",
       "0              2929.646315                 0.102055     2.498291   \n",
       "1               772.769385                 0.036181     2.377215   \n",
       "2               863.324396                18.778660     4.316277   \n",
       "3               288.173196                 0.044131     0.107020   \n",
       "4               129.239553                19.306646  1294.818751   \n",
       "\n",
       "   Collection Recovery Fee  Collection 12 months Medical Application Type  \\\n",
       "0                 0.793724                             0       INDIVIDUAL   \n",
       "1                 0.974821                             0       INDIVIDUAL   \n",
       "2                 1.020075                             0       INDIVIDUAL   \n",
       "3                 0.749971                             0       INDIVIDUAL   \n",
       "4                 0.368953                             0       INDIVIDUAL   \n",
       "\n",
       "   Last week Pay  Accounts Delinquent  Total Collection Amount  \\\n",
       "0             49                    0                       31   \n",
       "1            109                    0                       53   \n",
       "2             66                    0                       34   \n",
       "3             39                    0                       40   \n",
       "4             18                    0                      430   \n",
       "\n",
       "   Total Current Balance  Total Revolving Credit Limit  Loan Status  \n",
       "0                 311301                          6619            0  \n",
       "1                 182610                         20885            0  \n",
       "2                  89801                         26155            0  \n",
       "3                   9189                         60214            0  \n",
       "4                 126029                         22579            0  "
      ]
     },
     "execution_count": 86,
     "metadata": {},
     "output_type": "execute_result"
    }
   ],
   "source": [
    "data = pd.read_csv('train.csv').drop(['ID','Payment Plan','Loan Title'],1)\n",
    "data.head()"
   ]
  },
  {
   "cell_type": "code",
   "execution_count": 87,
   "id": "8078e15d",
   "metadata": {},
   "outputs": [
    {
     "data": {
      "text/plain": [
       "0    61222\n",
       "1     6241\n",
       "Name: Loan Status, dtype: int64"
      ]
     },
     "execution_count": 87,
     "metadata": {},
     "output_type": "execute_result"
    }
   ],
   "source": [
    "data['Loan Status'].value_counts()"
   ]
  },
  {
   "cell_type": "code",
   "execution_count": 88,
   "id": "c1b8dd32",
   "metadata": {},
   "outputs": [
    {
     "data": {
      "text/plain": [
       "(67463, 32)"
      ]
     },
     "execution_count": 88,
     "metadata": {},
     "output_type": "execute_result"
    }
   ],
   "source": [
    "data.shape"
   ]
  },
  {
   "cell_type": "code",
   "execution_count": 89,
   "id": "fb3517d9",
   "metadata": {},
   "outputs": [
    {
     "data": {
      "text/plain": [
       "Loan Amount                       int64\n",
       "Funded Amount                     int64\n",
       "Funded Amount Investor          float64\n",
       "Term                              int64\n",
       "Batch Enrolled                   object\n",
       "Interest Rate                   float64\n",
       "Grade                            object\n",
       "Sub Grade                        object\n",
       "Employment Duration              object\n",
       "Home Ownership                  float64\n",
       "Verification Status              object\n",
       "Debit to Income                 float64\n",
       "Delinquency - two years           int64\n",
       "Inquires - six months             int64\n",
       "Open Account                      int64\n",
       "Public Record                     int64\n",
       "Revolving Balance                 int64\n",
       "Revolving Utilities             float64\n",
       "Total Accounts                    int64\n",
       "Initial List Status              object\n",
       "Total Received Interest         float64\n",
       "Total Received Late Fee         float64\n",
       "Recoveries                      float64\n",
       "Collection Recovery Fee         float64\n",
       "Collection 12 months Medical      int64\n",
       "Application Type                 object\n",
       "Last week Pay                     int64\n",
       "Accounts Delinquent               int64\n",
       "Total Collection Amount           int64\n",
       "Total Current Balance             int64\n",
       "Total Revolving Credit Limit      int64\n",
       "Loan Status                       int64\n",
       "dtype: object"
      ]
     },
     "execution_count": 89,
     "metadata": {},
     "output_type": "execute_result"
    }
   ],
   "source": [
    "data.dtypes"
   ]
  },
  {
   "cell_type": "code",
   "execution_count": 90,
   "id": "5a0268f9",
   "metadata": {},
   "outputs": [
    {
     "data": {
      "text/html": [
       "<div>\n",
       "<style scoped>\n",
       "    .dataframe tbody tr th:only-of-type {\n",
       "        vertical-align: middle;\n",
       "    }\n",
       "\n",
       "    .dataframe tbody tr th {\n",
       "        vertical-align: top;\n",
       "    }\n",
       "\n",
       "    .dataframe thead th {\n",
       "        text-align: right;\n",
       "    }\n",
       "</style>\n",
       "<table border=\"1\" class=\"dataframe\">\n",
       "  <thead>\n",
       "    <tr style=\"text-align: right;\">\n",
       "      <th></th>\n",
       "      <th>Batch Enrolled</th>\n",
       "      <th>Grade</th>\n",
       "      <th>Sub Grade</th>\n",
       "      <th>Employment Duration</th>\n",
       "      <th>Verification Status</th>\n",
       "      <th>Initial List Status</th>\n",
       "      <th>Application Type</th>\n",
       "    </tr>\n",
       "  </thead>\n",
       "  <tbody>\n",
       "    <tr>\n",
       "      <th>0</th>\n",
       "      <td>BAT2522922</td>\n",
       "      <td>B</td>\n",
       "      <td>C4</td>\n",
       "      <td>MORTGAGE</td>\n",
       "      <td>Not Verified</td>\n",
       "      <td>w</td>\n",
       "      <td>INDIVIDUAL</td>\n",
       "    </tr>\n",
       "    <tr>\n",
       "      <th>1</th>\n",
       "      <td>BAT1586599</td>\n",
       "      <td>C</td>\n",
       "      <td>D3</td>\n",
       "      <td>RENT</td>\n",
       "      <td>Source Verified</td>\n",
       "      <td>f</td>\n",
       "      <td>INDIVIDUAL</td>\n",
       "    </tr>\n",
       "    <tr>\n",
       "      <th>2</th>\n",
       "      <td>BAT2136391</td>\n",
       "      <td>F</td>\n",
       "      <td>D4</td>\n",
       "      <td>MORTGAGE</td>\n",
       "      <td>Source Verified</td>\n",
       "      <td>w</td>\n",
       "      <td>INDIVIDUAL</td>\n",
       "    </tr>\n",
       "    <tr>\n",
       "      <th>3</th>\n",
       "      <td>BAT2428731</td>\n",
       "      <td>C</td>\n",
       "      <td>C3</td>\n",
       "      <td>MORTGAGE</td>\n",
       "      <td>Source Verified</td>\n",
       "      <td>w</td>\n",
       "      <td>INDIVIDUAL</td>\n",
       "    </tr>\n",
       "    <tr>\n",
       "      <th>4</th>\n",
       "      <td>BAT5341619</td>\n",
       "      <td>C</td>\n",
       "      <td>D4</td>\n",
       "      <td>MORTGAGE</td>\n",
       "      <td>Source Verified</td>\n",
       "      <td>w</td>\n",
       "      <td>INDIVIDUAL</td>\n",
       "    </tr>\n",
       "    <tr>\n",
       "      <th>...</th>\n",
       "      <td>...</td>\n",
       "      <td>...</td>\n",
       "      <td>...</td>\n",
       "      <td>...</td>\n",
       "      <td>...</td>\n",
       "      <td>...</td>\n",
       "      <td>...</td>\n",
       "    </tr>\n",
       "    <tr>\n",
       "      <th>67458</th>\n",
       "      <td>BAT3193689</td>\n",
       "      <td>C</td>\n",
       "      <td>A4</td>\n",
       "      <td>MORTGAGE</td>\n",
       "      <td>Verified</td>\n",
       "      <td>w</td>\n",
       "      <td>INDIVIDUAL</td>\n",
       "    </tr>\n",
       "    <tr>\n",
       "      <th>67459</th>\n",
       "      <td>BAT1780517</td>\n",
       "      <td>C</td>\n",
       "      <td>B3</td>\n",
       "      <td>RENT</td>\n",
       "      <td>Source Verified</td>\n",
       "      <td>w</td>\n",
       "      <td>INDIVIDUAL</td>\n",
       "    </tr>\n",
       "    <tr>\n",
       "      <th>67460</th>\n",
       "      <td>BAT1761981</td>\n",
       "      <td>A</td>\n",
       "      <td>F3</td>\n",
       "      <td>MORTGAGE</td>\n",
       "      <td>Verified</td>\n",
       "      <td>w</td>\n",
       "      <td>INDIVIDUAL</td>\n",
       "    </tr>\n",
       "    <tr>\n",
       "      <th>67461</th>\n",
       "      <td>BAT2333412</td>\n",
       "      <td>D</td>\n",
       "      <td>E3</td>\n",
       "      <td>OWN</td>\n",
       "      <td>Not Verified</td>\n",
       "      <td>f</td>\n",
       "      <td>INDIVIDUAL</td>\n",
       "    </tr>\n",
       "    <tr>\n",
       "      <th>67462</th>\n",
       "      <td>BAT1930365</td>\n",
       "      <td>B</td>\n",
       "      <td>D1</td>\n",
       "      <td>MORTGAGE</td>\n",
       "      <td>Verified</td>\n",
       "      <td>f</td>\n",
       "      <td>INDIVIDUAL</td>\n",
       "    </tr>\n",
       "  </tbody>\n",
       "</table>\n",
       "<p>67463 rows × 7 columns</p>\n",
       "</div>"
      ],
      "text/plain": [
       "      Batch Enrolled Grade Sub Grade Employment Duration Verification Status  \\\n",
       "0         BAT2522922     B        C4            MORTGAGE        Not Verified   \n",
       "1         BAT1586599     C        D3                RENT     Source Verified   \n",
       "2         BAT2136391     F        D4            MORTGAGE     Source Verified   \n",
       "3         BAT2428731     C        C3            MORTGAGE     Source Verified   \n",
       "4         BAT5341619     C        D4            MORTGAGE     Source Verified   \n",
       "...              ...   ...       ...                 ...                 ...   \n",
       "67458     BAT3193689     C        A4            MORTGAGE            Verified   \n",
       "67459     BAT1780517     C        B3                RENT     Source Verified   \n",
       "67460     BAT1761981     A        F3            MORTGAGE            Verified   \n",
       "67461     BAT2333412     D        E3                 OWN        Not Verified   \n",
       "67462     BAT1930365     B        D1            MORTGAGE            Verified   \n",
       "\n",
       "      Initial List Status Application Type  \n",
       "0                       w       INDIVIDUAL  \n",
       "1                       f       INDIVIDUAL  \n",
       "2                       w       INDIVIDUAL  \n",
       "3                       w       INDIVIDUAL  \n",
       "4                       w       INDIVIDUAL  \n",
       "...                   ...              ...  \n",
       "67458                   w       INDIVIDUAL  \n",
       "67459                   w       INDIVIDUAL  \n",
       "67460                   w       INDIVIDUAL  \n",
       "67461                   f       INDIVIDUAL  \n",
       "67462                   f       INDIVIDUAL  \n",
       "\n",
       "[67463 rows x 7 columns]"
      ]
     },
     "execution_count": 90,
     "metadata": {},
     "output_type": "execute_result"
    }
   ],
   "source": [
    "data.select_dtypes(include='object')"
   ]
  },
  {
   "cell_type": "code",
   "execution_count": 92,
   "id": "e3f3ea83",
   "metadata": {
    "scrolled": false
   },
   "outputs": [],
   "source": [
    "# batch = data['Loan Title'].value_counts()\n",
    "# for i in batch.index:\n",
    "#     print(\"Batch ID: \",i)\n",
    "#     print(data[data['Loan Title'] == i]['Loan Status'].value_counts())\n",
    "#     print(\"=\"*50)"
   ]
  },
  {
   "cell_type": "code",
   "execution_count": 93,
   "id": "8acd79bb",
   "metadata": {},
   "outputs": [
    {
     "data": {
      "text/html": [
       "<div>\n",
       "<style scoped>\n",
       "    .dataframe tbody tr th:only-of-type {\n",
       "        vertical-align: middle;\n",
       "    }\n",
       "\n",
       "    .dataframe tbody tr th {\n",
       "        vertical-align: top;\n",
       "    }\n",
       "\n",
       "    .dataframe thead th {\n",
       "        text-align: right;\n",
       "    }\n",
       "</style>\n",
       "<table border=\"1\" class=\"dataframe\">\n",
       "  <thead>\n",
       "    <tr style=\"text-align: right;\">\n",
       "      <th></th>\n",
       "      <th>Loan Amount</th>\n",
       "      <th>Funded Amount</th>\n",
       "      <th>Funded Amount Investor</th>\n",
       "      <th>Term</th>\n",
       "      <th>Batch Enrolled</th>\n",
       "      <th>Interest Rate</th>\n",
       "      <th>Grade</th>\n",
       "      <th>Sub Grade</th>\n",
       "      <th>Employment Duration</th>\n",
       "      <th>Home Ownership</th>\n",
       "      <th>Verification Status</th>\n",
       "      <th>Debit to Income</th>\n",
       "      <th>Delinquency - two years</th>\n",
       "      <th>Inquires - six months</th>\n",
       "      <th>Open Account</th>\n",
       "      <th>Public Record</th>\n",
       "      <th>Revolving Balance</th>\n",
       "      <th>Revolving Utilities</th>\n",
       "      <th>Total Accounts</th>\n",
       "      <th>Initial List Status</th>\n",
       "      <th>Total Received Interest</th>\n",
       "      <th>Total Received Late Fee</th>\n",
       "      <th>Recoveries</th>\n",
       "      <th>Collection Recovery Fee</th>\n",
       "      <th>Collection 12 months Medical</th>\n",
       "      <th>Application Type</th>\n",
       "      <th>Last week Pay</th>\n",
       "      <th>Accounts Delinquent</th>\n",
       "      <th>Total Collection Amount</th>\n",
       "      <th>Total Current Balance</th>\n",
       "      <th>Total Revolving Credit Limit</th>\n",
       "      <th>Loan Status</th>\n",
       "    </tr>\n",
       "  </thead>\n",
       "  <tbody>\n",
       "    <tr>\n",
       "      <th>0</th>\n",
       "      <td>10000</td>\n",
       "      <td>32236</td>\n",
       "      <td>12329.36286</td>\n",
       "      <td>59</td>\n",
       "      <td>BAT2522922</td>\n",
       "      <td>11.135007</td>\n",
       "      <td>B</td>\n",
       "      <td>C4</td>\n",
       "      <td>MORTGAGE</td>\n",
       "      <td>176346.62670</td>\n",
       "      <td>Not Verified</td>\n",
       "      <td>16.284758</td>\n",
       "      <td>1</td>\n",
       "      <td>0</td>\n",
       "      <td>13</td>\n",
       "      <td>0</td>\n",
       "      <td>24246</td>\n",
       "      <td>74.932551</td>\n",
       "      <td>7</td>\n",
       "      <td>w</td>\n",
       "      <td>2929.646315</td>\n",
       "      <td>0.102055</td>\n",
       "      <td>2.498291</td>\n",
       "      <td>0.793724</td>\n",
       "      <td>0</td>\n",
       "      <td>INDIVIDUAL</td>\n",
       "      <td>49</td>\n",
       "      <td>0</td>\n",
       "      <td>31</td>\n",
       "      <td>311301</td>\n",
       "      <td>6619</td>\n",
       "      <td>0</td>\n",
       "    </tr>\n",
       "    <tr>\n",
       "      <th>1</th>\n",
       "      <td>3609</td>\n",
       "      <td>11940</td>\n",
       "      <td>12191.99692</td>\n",
       "      <td>59</td>\n",
       "      <td>BAT1586599</td>\n",
       "      <td>12.237563</td>\n",
       "      <td>C</td>\n",
       "      <td>D3</td>\n",
       "      <td>RENT</td>\n",
       "      <td>39833.92100</td>\n",
       "      <td>Source Verified</td>\n",
       "      <td>15.412409</td>\n",
       "      <td>0</td>\n",
       "      <td>0</td>\n",
       "      <td>12</td>\n",
       "      <td>0</td>\n",
       "      <td>812</td>\n",
       "      <td>78.297186</td>\n",
       "      <td>13</td>\n",
       "      <td>f</td>\n",
       "      <td>772.769385</td>\n",
       "      <td>0.036181</td>\n",
       "      <td>2.377215</td>\n",
       "      <td>0.974821</td>\n",
       "      <td>0</td>\n",
       "      <td>INDIVIDUAL</td>\n",
       "      <td>109</td>\n",
       "      <td>0</td>\n",
       "      <td>53</td>\n",
       "      <td>182610</td>\n",
       "      <td>20885</td>\n",
       "      <td>0</td>\n",
       "    </tr>\n",
       "    <tr>\n",
       "      <th>2</th>\n",
       "      <td>28276</td>\n",
       "      <td>9311</td>\n",
       "      <td>21603.22455</td>\n",
       "      <td>59</td>\n",
       "      <td>BAT2136391</td>\n",
       "      <td>12.545884</td>\n",
       "      <td>F</td>\n",
       "      <td>D4</td>\n",
       "      <td>MORTGAGE</td>\n",
       "      <td>91506.69105</td>\n",
       "      <td>Source Verified</td>\n",
       "      <td>28.137619</td>\n",
       "      <td>0</td>\n",
       "      <td>0</td>\n",
       "      <td>14</td>\n",
       "      <td>0</td>\n",
       "      <td>1843</td>\n",
       "      <td>2.073040</td>\n",
       "      <td>20</td>\n",
       "      <td>w</td>\n",
       "      <td>863.324396</td>\n",
       "      <td>18.778660</td>\n",
       "      <td>4.316277</td>\n",
       "      <td>1.020075</td>\n",
       "      <td>0</td>\n",
       "      <td>INDIVIDUAL</td>\n",
       "      <td>66</td>\n",
       "      <td>0</td>\n",
       "      <td>34</td>\n",
       "      <td>89801</td>\n",
       "      <td>26155</td>\n",
       "      <td>0</td>\n",
       "    </tr>\n",
       "    <tr>\n",
       "      <th>3</th>\n",
       "      <td>11170</td>\n",
       "      <td>6954</td>\n",
       "      <td>17877.15585</td>\n",
       "      <td>59</td>\n",
       "      <td>BAT2428731</td>\n",
       "      <td>16.731201</td>\n",
       "      <td>C</td>\n",
       "      <td>C3</td>\n",
       "      <td>MORTGAGE</td>\n",
       "      <td>108286.57590</td>\n",
       "      <td>Source Verified</td>\n",
       "      <td>18.043730</td>\n",
       "      <td>1</td>\n",
       "      <td>0</td>\n",
       "      <td>7</td>\n",
       "      <td>0</td>\n",
       "      <td>13819</td>\n",
       "      <td>67.467951</td>\n",
       "      <td>12</td>\n",
       "      <td>w</td>\n",
       "      <td>288.173196</td>\n",
       "      <td>0.044131</td>\n",
       "      <td>0.107020</td>\n",
       "      <td>0.749971</td>\n",
       "      <td>0</td>\n",
       "      <td>INDIVIDUAL</td>\n",
       "      <td>39</td>\n",
       "      <td>0</td>\n",
       "      <td>40</td>\n",
       "      <td>9189</td>\n",
       "      <td>60214</td>\n",
       "      <td>0</td>\n",
       "    </tr>\n",
       "    <tr>\n",
       "      <th>4</th>\n",
       "      <td>16890</td>\n",
       "      <td>13226</td>\n",
       "      <td>13539.92667</td>\n",
       "      <td>59</td>\n",
       "      <td>BAT5341619</td>\n",
       "      <td>15.008300</td>\n",
       "      <td>C</td>\n",
       "      <td>D4</td>\n",
       "      <td>MORTGAGE</td>\n",
       "      <td>44234.82545</td>\n",
       "      <td>Source Verified</td>\n",
       "      <td>17.209886</td>\n",
       "      <td>1</td>\n",
       "      <td>3</td>\n",
       "      <td>13</td>\n",
       "      <td>1</td>\n",
       "      <td>1544</td>\n",
       "      <td>85.250761</td>\n",
       "      <td>22</td>\n",
       "      <td>w</td>\n",
       "      <td>129.239553</td>\n",
       "      <td>19.306646</td>\n",
       "      <td>1294.818751</td>\n",
       "      <td>0.368953</td>\n",
       "      <td>0</td>\n",
       "      <td>INDIVIDUAL</td>\n",
       "      <td>18</td>\n",
       "      <td>0</td>\n",
       "      <td>430</td>\n",
       "      <td>126029</td>\n",
       "      <td>22579</td>\n",
       "      <td>0</td>\n",
       "    </tr>\n",
       "  </tbody>\n",
       "</table>\n",
       "</div>"
      ],
      "text/plain": [
       "   Loan Amount  Funded Amount  Funded Amount Investor  Term Batch Enrolled  \\\n",
       "0        10000          32236             12329.36286    59     BAT2522922   \n",
       "1         3609          11940             12191.99692    59     BAT1586599   \n",
       "2        28276           9311             21603.22455    59     BAT2136391   \n",
       "3        11170           6954             17877.15585    59     BAT2428731   \n",
       "4        16890          13226             13539.92667    59     BAT5341619   \n",
       "\n",
       "   Interest Rate Grade Sub Grade Employment Duration  Home Ownership  \\\n",
       "0      11.135007     B        C4            MORTGAGE    176346.62670   \n",
       "1      12.237563     C        D3                RENT     39833.92100   \n",
       "2      12.545884     F        D4            MORTGAGE     91506.69105   \n",
       "3      16.731201     C        C3            MORTGAGE    108286.57590   \n",
       "4      15.008300     C        D4            MORTGAGE     44234.82545   \n",
       "\n",
       "  Verification Status  Debit to Income  Delinquency - two years  \\\n",
       "0        Not Verified        16.284758                        1   \n",
       "1     Source Verified        15.412409                        0   \n",
       "2     Source Verified        28.137619                        0   \n",
       "3     Source Verified        18.043730                        1   \n",
       "4     Source Verified        17.209886                        1   \n",
       "\n",
       "   Inquires - six months  Open Account  Public Record  Revolving Balance  \\\n",
       "0                      0            13              0              24246   \n",
       "1                      0            12              0                812   \n",
       "2                      0            14              0               1843   \n",
       "3                      0             7              0              13819   \n",
       "4                      3            13              1               1544   \n",
       "\n",
       "   Revolving Utilities  Total Accounts Initial List Status  \\\n",
       "0            74.932551               7                   w   \n",
       "1            78.297186              13                   f   \n",
       "2             2.073040              20                   w   \n",
       "3            67.467951              12                   w   \n",
       "4            85.250761              22                   w   \n",
       "\n",
       "   Total Received Interest  Total Received Late Fee   Recoveries  \\\n",
       "0              2929.646315                 0.102055     2.498291   \n",
       "1               772.769385                 0.036181     2.377215   \n",
       "2               863.324396                18.778660     4.316277   \n",
       "3               288.173196                 0.044131     0.107020   \n",
       "4               129.239553                19.306646  1294.818751   \n",
       "\n",
       "   Collection Recovery Fee  Collection 12 months Medical Application Type  \\\n",
       "0                 0.793724                             0       INDIVIDUAL   \n",
       "1                 0.974821                             0       INDIVIDUAL   \n",
       "2                 1.020075                             0       INDIVIDUAL   \n",
       "3                 0.749971                             0       INDIVIDUAL   \n",
       "4                 0.368953                             0       INDIVIDUAL   \n",
       "\n",
       "   Last week Pay  Accounts Delinquent  Total Collection Amount  \\\n",
       "0             49                    0                       31   \n",
       "1            109                    0                       53   \n",
       "2             66                    0                       34   \n",
       "3             39                    0                       40   \n",
       "4             18                    0                      430   \n",
       "\n",
       "   Total Current Balance  Total Revolving Credit Limit  Loan Status  \n",
       "0                 311301                          6619            0  \n",
       "1                 182610                         20885            0  \n",
       "2                  89801                         26155            0  \n",
       "3                   9189                         60214            0  \n",
       "4                 126029                         22579            0  "
      ]
     },
     "execution_count": 93,
     "metadata": {},
     "output_type": "execute_result"
    }
   ],
   "source": [
    "data.head()"
   ]
  },
  {
   "cell_type": "markdown",
   "id": "e8f62c1e",
   "metadata": {},
   "source": [
    "# Splitting Data"
   ]
  },
  {
   "cell_type": "code",
   "execution_count": 94,
   "id": "0b593a8e",
   "metadata": {},
   "outputs": [],
   "source": [
    "y_true = data['Loan Status'].values\n",
    "result = data"
   ]
  },
  {
   "cell_type": "code",
   "execution_count": 97,
   "id": "9a253028",
   "metadata": {},
   "outputs": [],
   "source": [
    "train_df, test_df,y_train, y_test = train_test_split(result, y_true, stratify = y_true, test_size = 0.2)"
   ]
  },
  {
   "cell_type": "code",
   "execution_count": 98,
   "id": "66ee7fc9",
   "metadata": {},
   "outputs": [
    {
     "name": "stdout",
     "output_type": "stream",
     "text": [
      " Number of data points in train data : 53970\n",
      " Number of data points in test data : 13493\n"
     ]
    }
   ],
   "source": [
    "print(' Number of data points in train data :' ,train_df.shape[0])\n",
    "print(' Number of data points in test data :' ,test_df.shape[0])"
   ]
  },
  {
   "cell_type": "code",
   "execution_count": 101,
   "id": "9424efda",
   "metadata": {},
   "outputs": [
    {
     "data": {
      "image/png": "[encoded data removed]",
      "text/plain": [
       "<Figure size 432x288 with 1 Axes>"
      ]
     },
     "metadata": {
      "needs_background": "light"
     },
     "output_type": "display_data"
    },
    {
     "name": "stdout",
     "output_type": "stream",
     "text": [
      "Number of data points in class 0 : 48977 ( 90.749 %)\n",
      "Number of data points in class 1 : 4993 ( 9.251 %)\n",
      "--------------------------------------------------------------------------------\n"
     ]
    },
    {
     "data": {
      "image/png": "[encoded data removed]",
      "text/plain": [
       "<Figure size 432x288 with 1 Axes>"
      ]
     },
     "metadata": {
      "needs_background": "light"
     },
     "output_type": "display_data"
    },
    {
     "name": "stdout",
     "output_type": "stream",
     "text": [
      "Number of data points in class 0 : 12245 ( 90.751 %)\n",
      "Number of data points in class 1 : 1248 ( 9.249 %)\n"
     ]
    }
   ],
   "source": [
    "train_class_distribution = train_df['Loan Status'].value_counts().sort_index()\n",
    "test_class_distribution = test_df['Loan Status'].value_counts().sort_index()\n",
    "\n",
    "train_class_distribution.plot(kind = 'bar', color=['r','b'])\n",
    "plt.xlabel('Class')\n",
    "plt.ylabel('Data points per Class')\n",
    "plt.title('Distribution of yi in train data')\n",
    "plt.grid()\n",
    "plt.show()\n",
    "for i in range(0,2):\n",
    "     print('Number of data points in class', i, ':',train_class_distribution.values[i], '(', np.round((train_class_distribution.values[i]/train_df.shape[0]*100), 3), '%)')\n",
    "print('-'*80)\n",
    "\n",
    "test_class_distribution.plot(kind = 'bar', color=['r','b'])\n",
    "plt.xlabel('Class')\n",
    "plt.ylabel('Data points per Class')\n",
    "plt.title('Distribution of yi in test data')\n",
    "plt.grid()\n",
    "plt.show()\n",
    "for i in range(0,2):\n",
    "     print('Number of data points in class', i, ':',test_class_distribution.values[i], '(', np.round((test_class_distribution.values[i]/test_df.shape[0]*100), 3), '%)')"
   ]
  },
  {
   "cell_type": "markdown",
   "id": "594658ca",
   "metadata": {},
   "source": [
    "# Standard Scaling"
   ]
  },
  {
   "cell_type": "code",
   "execution_count": 102,
   "id": "8c6e988c",
   "metadata": {},
   "outputs": [
    {
     "data": {
      "text/html": [
       "<div>\n",
       "<style scoped>\n",
       "    .dataframe tbody tr th:only-of-type {\n",
       "        vertical-align: middle;\n",
       "    }\n",
       "\n",
       "    .dataframe tbody tr th {\n",
       "        vertical-align: top;\n",
       "    }\n",
       "\n",
       "    .dataframe thead th {\n",
       "        text-align: right;\n",
       "    }\n",
       "</style>\n",
       "<table border=\"1\" class=\"dataframe\">\n",
       "  <thead>\n",
       "    <tr style=\"text-align: right;\">\n",
       "      <th></th>\n",
       "      <th>Loan Amount</th>\n",
       "      <th>Funded Amount</th>\n",
       "      <th>Funded Amount Investor</th>\n",
       "      <th>Term</th>\n",
       "      <th>Batch Enrolled</th>\n",
       "      <th>Interest Rate</th>\n",
       "      <th>Grade</th>\n",
       "      <th>Sub Grade</th>\n",
       "      <th>Employment Duration</th>\n",
       "      <th>Home Ownership</th>\n",
       "      <th>Verification Status</th>\n",
       "      <th>Debit to Income</th>\n",
       "      <th>Delinquency - two years</th>\n",
       "      <th>Inquires - six months</th>\n",
       "      <th>Open Account</th>\n",
       "      <th>Public Record</th>\n",
       "      <th>Revolving Balance</th>\n",
       "      <th>Revolving Utilities</th>\n",
       "      <th>Total Accounts</th>\n",
       "      <th>Initial List Status</th>\n",
       "      <th>Total Received Interest</th>\n",
       "      <th>Total Received Late Fee</th>\n",
       "      <th>Recoveries</th>\n",
       "      <th>Collection Recovery Fee</th>\n",
       "      <th>Collection 12 months Medical</th>\n",
       "      <th>Application Type</th>\n",
       "      <th>Last week Pay</th>\n",
       "      <th>Accounts Delinquent</th>\n",
       "      <th>Total Collection Amount</th>\n",
       "      <th>Total Current Balance</th>\n",
       "      <th>Total Revolving Credit Limit</th>\n",
       "      <th>Loan Status</th>\n",
       "    </tr>\n",
       "  </thead>\n",
       "  <tbody>\n",
       "    <tr>\n",
       "      <th>0</th>\n",
       "      <td>10000</td>\n",
       "      <td>32236</td>\n",
       "      <td>12329.36286</td>\n",
       "      <td>59</td>\n",
       "      <td>BAT2522922</td>\n",
       "      <td>11.135007</td>\n",
       "      <td>B</td>\n",
       "      <td>C4</td>\n",
       "      <td>MORTGAGE</td>\n",
       "      <td>176346.62670</td>\n",
       "      <td>Not Verified</td>\n",
       "      <td>16.284758</td>\n",
       "      <td>1</td>\n",
       "      <td>0</td>\n",
       "      <td>13</td>\n",
       "      <td>0</td>\n",
       "      <td>24246</td>\n",
       "      <td>74.932551</td>\n",
       "      <td>7</td>\n",
       "      <td>w</td>\n",
       "      <td>2929.646315</td>\n",
       "      <td>0.102055</td>\n",
       "      <td>2.498291</td>\n",
       "      <td>0.793724</td>\n",
       "      <td>0</td>\n",
       "      <td>INDIVIDUAL</td>\n",
       "      <td>49</td>\n",
       "      <td>0</td>\n",
       "      <td>31</td>\n",
       "      <td>311301</td>\n",
       "      <td>6619</td>\n",
       "      <td>0</td>\n",
       "    </tr>\n",
       "    <tr>\n",
       "      <th>1</th>\n",
       "      <td>3609</td>\n",
       "      <td>11940</td>\n",
       "      <td>12191.99692</td>\n",
       "      <td>59</td>\n",
       "      <td>BAT1586599</td>\n",
       "      <td>12.237563</td>\n",
       "      <td>C</td>\n",
       "      <td>D3</td>\n",
       "      <td>RENT</td>\n",
       "      <td>39833.92100</td>\n",
       "      <td>Source Verified</td>\n",
       "      <td>15.412409</td>\n",
       "      <td>0</td>\n",
       "      <td>0</td>\n",
       "      <td>12</td>\n",
       "      <td>0</td>\n",
       "      <td>812</td>\n",
       "      <td>78.297186</td>\n",
       "      <td>13</td>\n",
       "      <td>f</td>\n",
       "      <td>772.769385</td>\n",
       "      <td>0.036181</td>\n",
       "      <td>2.377215</td>\n",
       "      <td>0.974821</td>\n",
       "      <td>0</td>\n",
       "      <td>INDIVIDUAL</td>\n",
       "      <td>109</td>\n",
       "      <td>0</td>\n",
       "      <td>53</td>\n",
       "      <td>182610</td>\n",
       "      <td>20885</td>\n",
       "      <td>0</td>\n",
       "    </tr>\n",
       "    <tr>\n",
       "      <th>2</th>\n",
       "      <td>28276</td>\n",
       "      <td>9311</td>\n",
       "      <td>21603.22455</td>\n",
       "      <td>59</td>\n",
       "      <td>BAT2136391</td>\n",
       "      <td>12.545884</td>\n",
       "      <td>F</td>\n",
       "      <td>D4</td>\n",
       "      <td>MORTGAGE</td>\n",
       "      <td>91506.69105</td>\n",
       "      <td>Source Verified</td>\n",
       "      <td>28.137619</td>\n",
       "      <td>0</td>\n",
       "      <td>0</td>\n",
       "      <td>14</td>\n",
       "      <td>0</td>\n",
       "      <td>1843</td>\n",
       "      <td>2.073040</td>\n",
       "      <td>20</td>\n",
       "      <td>w</td>\n",
       "      <td>863.324396</td>\n",
       "      <td>18.778660</td>\n",
       "      <td>4.316277</td>\n",
       "      <td>1.020075</td>\n",
       "      <td>0</td>\n",
       "      <td>INDIVIDUAL</td>\n",
       "      <td>66</td>\n",
       "      <td>0</td>\n",
       "      <td>34</td>\n",
       "      <td>89801</td>\n",
       "      <td>26155</td>\n",
       "      <td>0</td>\n",
       "    </tr>\n",
       "    <tr>\n",
       "      <th>3</th>\n",
       "      <td>11170</td>\n",
       "      <td>6954</td>\n",
       "      <td>17877.15585</td>\n",
       "      <td>59</td>\n",
       "      <td>BAT2428731</td>\n",
       "      <td>16.731201</td>\n",
       "      <td>C</td>\n",
       "      <td>C3</td>\n",
       "      <td>MORTGAGE</td>\n",
       "      <td>108286.57590</td>\n",
       "      <td>Source Verified</td>\n",
       "      <td>18.043730</td>\n",
       "      <td>1</td>\n",
       "      <td>0</td>\n",
       "      <td>7</td>\n",
       "      <td>0</td>\n",
       "      <td>13819</td>\n",
       "      <td>67.467951</td>\n",
       "      <td>12</td>\n",
       "      <td>w</td>\n",
       "      <td>288.173196</td>\n",
       "      <td>0.044131</td>\n",
       "      <td>0.107020</td>\n",
       "      <td>0.749971</td>\n",
       "      <td>0</td>\n",
       "      <td>INDIVIDUAL</td>\n",
       "      <td>39</td>\n",
       "      <td>0</td>\n",
       "      <td>40</td>\n",
       "      <td>9189</td>\n",
       "      <td>60214</td>\n",
       "      <td>0</td>\n",
       "    </tr>\n",
       "    <tr>\n",
       "      <th>4</th>\n",
       "      <td>16890</td>\n",
       "      <td>13226</td>\n",
       "      <td>13539.92667</td>\n",
       "      <td>59</td>\n",
       "      <td>BAT5341619</td>\n",
       "      <td>15.008300</td>\n",
       "      <td>C</td>\n",
       "      <td>D4</td>\n",
       "      <td>MORTGAGE</td>\n",
       "      <td>44234.82545</td>\n",
       "      <td>Source Verified</td>\n",
       "      <td>17.209886</td>\n",
       "      <td>1</td>\n",
       "      <td>3</td>\n",
       "      <td>13</td>\n",
       "      <td>1</td>\n",
       "      <td>1544</td>\n",
       "      <td>85.250761</td>\n",
       "      <td>22</td>\n",
       "      <td>w</td>\n",
       "      <td>129.239553</td>\n",
       "      <td>19.306646</td>\n",
       "      <td>1294.818751</td>\n",
       "      <td>0.368953</td>\n",
       "      <td>0</td>\n",
       "      <td>INDIVIDUAL</td>\n",
       "      <td>18</td>\n",
       "      <td>0</td>\n",
       "      <td>430</td>\n",
       "      <td>126029</td>\n",
       "      <td>22579</td>\n",
       "      <td>0</td>\n",
       "    </tr>\n",
       "  </tbody>\n",
       "</table>\n",
       "</div>"
      ],
      "text/plain": [
       "   Loan Amount  Funded Amount  Funded Amount Investor  Term Batch Enrolled  \\\n",
       "0        10000          32236             12329.36286    59     BAT2522922   \n",
       "1         3609          11940             12191.99692    59     BAT1586599   \n",
       "2        28276           9311             21603.22455    59     BAT2136391   \n",
       "3        11170           6954             17877.15585    59     BAT2428731   \n",
       "4        16890          13226             13539.92667    59     BAT5341619   \n",
       "\n",
       "   Interest Rate Grade Sub Grade Employment Duration  Home Ownership  \\\n",
       "0      11.135007     B        C4            MORTGAGE    176346.62670   \n",
       "1      12.237563     C        D3                RENT     39833.92100   \n",
       "2      12.545884     F        D4            MORTGAGE     91506.69105   \n",
       "3      16.731201     C        C3            MORTGAGE    108286.57590   \n",
       "4      15.008300     C        D4            MORTGAGE     44234.82545   \n",
       "\n",
       "  Verification Status  Debit to Income  Delinquency - two years  \\\n",
       "0        Not Verified        16.284758                        1   \n",
       "1     Source Verified        15.412409                        0   \n",
       "2     Source Verified        28.137619                        0   \n",
       "3     Source Verified        18.043730                        1   \n",
       "4     Source Verified        17.209886                        1   \n",
       "\n",
       "   Inquires - six months  Open Account  Public Record  Revolving Balance  \\\n",
       "0                      0            13              0              24246   \n",
       "1                      0            12              0                812   \n",
       "2                      0            14              0               1843   \n",
       "3                      0             7              0              13819   \n",
       "4                      3            13              1               1544   \n",
       "\n",
       "   Revolving Utilities  Total Accounts Initial List Status  \\\n",
       "0            74.932551               7                   w   \n",
       "1            78.297186              13                   f   \n",
       "2             2.073040              20                   w   \n",
       "3            67.467951              12                   w   \n",
       "4            85.250761              22                   w   \n",
       "\n",
       "   Total Received Interest  Total Received Late Fee   Recoveries  \\\n",
       "0              2929.646315                 0.102055     2.498291   \n",
       "1               772.769385                 0.036181     2.377215   \n",
       "2               863.324396                18.778660     4.316277   \n",
       "3               288.173196                 0.044131     0.107020   \n",
       "4               129.239553                19.306646  1294.818751   \n",
       "\n",
       "   Collection Recovery Fee  Collection 12 months Medical Application Type  \\\n",
       "0                 0.793724                             0       INDIVIDUAL   \n",
       "1                 0.974821                             0       INDIVIDUAL   \n",
       "2                 1.020075                             0       INDIVIDUAL   \n",
       "3                 0.749971                             0       INDIVIDUAL   \n",
       "4                 0.368953                             0       INDIVIDUAL   \n",
       "\n",
       "   Last week Pay  Accounts Delinquent  Total Collection Amount  \\\n",
       "0             49                    0                       31   \n",
       "1            109                    0                       53   \n",
       "2             66                    0                       34   \n",
       "3             39                    0                       40   \n",
       "4             18                    0                      430   \n",
       "\n",
       "   Total Current Balance  Total Revolving Credit Limit  Loan Status  \n",
       "0                 311301                          6619            0  \n",
       "1                 182610                         20885            0  \n",
       "2                  89801                         26155            0  \n",
       "3                   9189                         60214            0  \n",
       "4                 126029                         22579            0  "
      ]
     },
     "execution_count": 102,
     "metadata": {},
     "output_type": "execute_result"
    }
   ],
   "source": [
    "data.head()"
   ]
  },
  {
   "cell_type": "code",
   "execution_count": 103,
   "id": "454e17f6",
   "metadata": {},
   "outputs": [
    {
     "data": {
      "text/plain": [
       "['Loan Amount',\n",
       " 'Funded Amount',\n",
       " 'Funded Amount Investor',\n",
       " 'Term',\n",
       " 'Interest Rate',\n",
       " 'Home Ownership',\n",
       " 'Debit to Income',\n",
       " 'Delinquency - two years',\n",
       " 'Inquires - six months',\n",
       " 'Open Account',\n",
       " 'Public Record',\n",
       " 'Revolving Balance',\n",
       " 'Revolving Utilities',\n",
       " 'Total Accounts',\n",
       " 'Total Received Interest',\n",
       " 'Total Received Late Fee',\n",
       " 'Recoveries',\n",
       " 'Collection Recovery Fee',\n",
       " 'Collection 12 months Medical',\n",
       " 'Last week Pay',\n",
       " 'Accounts Delinquent',\n",
       " 'Total Collection Amount',\n",
       " 'Total Current Balance',\n",
       " 'Total Revolving Credit Limit']"
      ]
     },
     "execution_count": 103,
     "metadata": {},
     "output_type": "execute_result"
    }
   ],
   "source": [
    "num_train = train_df.iloc[::,[0,1,2,3,5,9,11,12,13,14,15,16,17,18,20,21,22,23,24,26,27,28,29,30]]\n",
    "num_test = test_df.iloc[::,[0,1,2,3,5,9,11,12,13,14,15,16,17,18,20,21,22,23,24,26,27,28,29,30]]\n",
    "cols = list(num_train.columns)\n",
    "cols"
   ]
  },
  {
   "cell_type": "code",
   "execution_count": 104,
   "id": "60952943",
   "metadata": {},
   "outputs": [],
   "source": [
    "scalar = StandardScaler(with_mean=False)\n",
    "scale_train = pd.DataFrame(scalar.fit_transform(num_train),columns=cols)\n",
    "scale_test = pd.DataFrame(scalar.transform(num_test),columns=cols)"
   ]
  },
  {
   "cell_type": "code",
   "execution_count": null,
   "id": "2f60bcfa",
   "metadata": {},
   "outputs": [],
   "source": []
  },
  {
   "cell_type": "markdown",
   "id": "a3b50905",
   "metadata": {},
   "source": [
    "# ONE HOT ENCODING"
   ]
  },
  {
   "cell_type": "code",
   "execution_count": 106,
   "id": "af0ac8a8",
   "metadata": {},
   "outputs": [
    {
     "data": {
      "text/plain": [
       "['Batch Enrolled',\n",
       " 'Grade',\n",
       " 'Sub Grade',\n",
       " 'Employment Duration',\n",
       " 'Verification Status',\n",
       " 'Initial List Status',\n",
       " 'Application Type']"
      ]
     },
     "execution_count": 106,
     "metadata": {},
     "output_type": "execute_result"
    }
   ],
   "source": [
    "new_Xtrain = train_df.iloc[::,[4,6,7,8,10,19,25]]\n",
    "new_Xtest = test_df.iloc[::,[4,6,7,8,10,19,25]]\n",
    "cols = list(new_Xtrain.columns)\n",
    "cols"
   ]
  },
  {
   "cell_type": "code",
   "execution_count": 107,
   "id": "17cbd616",
   "metadata": {},
   "outputs": [
    {
     "data": {
      "text/plain": [
       "OneHotEncoder(handle_unknown='ignore')"
      ]
     },
     "execution_count": 107,
     "metadata": {},
     "output_type": "execute_result"
    }
   ],
   "source": [
    "from sklearn.preprocessing import OneHotEncoder\n",
    "enc = OneHotEncoder(handle_unknown='ignore')\n",
    "enc.fit(new_Xtrain)"
   ]
  },
  {
   "cell_type": "code",
   "execution_count": 108,
   "id": "68b0faf8",
   "metadata": {},
   "outputs": [],
   "source": [
    "new_Xtrain = enc.transform(new_Xtrain).toarray()\n",
    "new_Xtest = enc.transform(new_Xtest).toarray()\n",
    "new_Xtrain = pd.DataFrame(new_Xtrain)\n",
    "new_Xtest = pd.DataFrame(new_Xtest)"
   ]
  },
  {
   "cell_type": "code",
   "execution_count": 117,
   "id": "35ea77fd",
   "metadata": {},
   "outputs": [],
   "source": [
    "final_train_ohe = pd.concat([new_Xtrain,scale_train],1)\n",
    "final_test_ohe = pd.concat([new_Xtest,scale_test],1)"
   ]
  },
  {
   "cell_type": "markdown",
   "id": "72aee372",
   "metadata": {},
   "source": [
    "# ML Model"
   ]
  },
  {
   "cell_type": "code",
   "execution_count": 120,
   "id": "09f0592d",
   "metadata": {},
   "outputs": [],
   "source": [
    "train_y = y_train"
   ]
  },
  {
   "cell_type": "code",
   "execution_count": 119,
   "id": "96a9c949",
   "metadata": {},
   "outputs": [
    {
     "data": {
      "text/plain": [
       "array([0, 0, 0, ..., 0, 0, 0], dtype=int64)"
      ]
     },
     "execution_count": 119,
     "metadata": {},
     "output_type": "execute_result"
    }
   ],
   "source": [
    "y_test"
   ]
  },
  {
   "cell_type": "code",
   "execution_count": 129,
   "id": "4e0aea76",
   "metadata": {},
   "outputs": [
    {
     "name": "stdout",
     "output_type": "stream",
     "text": [
      "for alpha = 1e-06\n",
      "Log Loss : 0.3082176373975133\n",
      "for alpha = 1e-05\n",
      "Log Loss : 0.3082971558288414\n",
      "for alpha = 0.0001\n",
      "Log Loss : 0.3082862377059563\n",
      "for alpha = 0.001\n",
      "Log Loss : 0.3082049079644143\n",
      "for alpha = 0.01\n",
      "Log Loss : 0.30814454460462265\n",
      "for alpha = 0.1\n",
      "Log Loss : 0.30807291736400066\n",
      "for alpha = 1\n",
      "Log Loss : 0.3081277878411804\n",
      "for alpha = 10\n",
      "Log Loss : 0.30825180627928905\n",
      "for alpha = 100\n",
      "Log Loss : 0.3082609844923254\n"
     ]
    },
    {
     "data": {
      "image/png": "[encoded data removed]",
      "text/plain": [
       "<Figure size 432x288 with 1 Axes>"
      ]
     },
     "metadata": {
      "needs_background": "light"
     },
     "output_type": "display_data"
    },
    {
     "name": "stdout",
     "output_type": "stream",
     "text": [
      "Wall time: 1min 50s\n"
     ]
    }
   ],
   "source": [
    "%%time\n",
    "\n",
    "\n",
    "alpha = [10 ** x for x in range(-6, 3)]\n",
    "cv_log_error_array = []\n",
    "for i in alpha:\n",
    "    print(\"for alpha =\", i)\n",
    "    clf = SGDClassifier(class_weight='balanced', alpha=i, penalty='l2', loss='log', random_state=42)\n",
    "    clf.fit(final_train_ohe, train_y)\n",
    "    sig_clf = CalibratedClassifierCV(clf, method=\"sigmoid\")\n",
    "    sig_clf.fit(final_train_ohe, train_y)\n",
    "    sig_clf_probs = sig_clf.predict_proba(final_test_ohe)\n",
    "    cv_log_error_array.append(log_loss(y_test, sig_clf_probs, labels=clf.classes_, eps=1e-15))\n",
    "    # to avoid rounding error while multiplying probabilites we use log-probability estimates\n",
    "    print(\"Log Loss :\",log_loss(y_test, sig_clf_probs)) \n",
    "\n",
    "fig, ax = plt.subplots()\n",
    "ax.plot(alpha, cv_log_error_array,c='g')\n",
    "for i, txt in enumerate(np.round(cv_log_error_array,3)):\n",
    "    ax.annotate((alpha[i],str(txt)), (alpha[i],cv_log_error_array[i]))\n",
    "plt.grid()\n",
    "plt.title(\"Cross Validation Error for each alpha\")\n",
    "plt.xlabel(\"Alpha i's\")\n",
    "plt.ylabel(\"Error measure\")\n",
    "plt.show()"
   ]
  },
  {
   "cell_type": "code",
   "execution_count": 130,
   "id": "a4a48900",
   "metadata": {},
   "outputs": [
    {
     "data": {
      "text/plain": [
       "CalibratedClassifierCV(base_estimator=SGDClassifier(alpha=0.1,\n",
       "                                                    class_weight='balanced',\n",
       "                                                    loss='log',\n",
       "                                                    random_state=42))"
      ]
     },
     "execution_count": 130,
     "metadata": {},
     "output_type": "execute_result"
    }
   ],
   "source": [
    "best_alpha = np.argmin(cv_log_error_array)\n",
    "clf = SGDClassifier(class_weight='balanced', alpha=alpha[best_alpha], penalty='l2', loss='log', random_state=42)\n",
    "clf.fit(final_train_ohe, train_y)\n",
    "sig_clf = CalibratedClassifierCV(clf, method=\"sigmoid\")\n",
    "sig_clf.fit(final_train_ohe, train_y)"
   ]
  },
  {
   "cell_type": "code",
   "execution_count": 135,
   "id": "b6e3dbae",
   "metadata": {},
   "outputs": [
    {
     "data": {
      "text/plain": [
       "3.1945744416251785"
      ]
     },
     "execution_count": 135,
     "metadata": {},
     "output_type": "execute_result"
    }
   ],
   "source": [
    "log_loss(y_test,sig_clf.predict(final_test_ohe))"
   ]
  },
  {
   "cell_type": "code",
   "execution_count": 136,
   "id": "4e8fca96",
   "metadata": {},
   "outputs": [
    {
     "data": {
      "text/plain": [
       "3.1953327874706146"
      ]
     },
     "execution_count": 136,
     "metadata": {},
     "output_type": "execute_result"
    }
   ],
   "source": [
    "log_loss(y_train,sig_clf.predict(final_train_ohe))"
   ]
  },
  {
   "cell_type": "code",
   "execution_count": 141,
   "id": "63b5d878",
   "metadata": {},
   "outputs": [
    {
     "name": "stdout",
     "output_type": "stream",
     "text": [
      "Best: -0.309065 using {'C': 0.1, 'penalty': 'l2'}\n",
      "Wall time: 45.3 s\n"
     ]
    }
   ],
   "source": [
    "%%time\n",
    "from sklearn.model_selection import RepeatedStratifiedKFold\n",
    "from sklearn.model_selection import GridSearchCV\n",
    "from sklearn.linear_model import LogisticRegression\n",
    "# define dataset\n",
    "model = LogisticRegression()\n",
    "penalty = ['l2']\n",
    "c_values = [10, 1.0, 0.1]\n",
    "# define grid search\n",
    "grid = dict(penalty=penalty,C=c_values)\n",
    "cv = RepeatedStratifiedKFold(n_splits=5, n_repeats=3, random_state=1)\n",
    "grid_search = GridSearchCV(estimator=model, param_grid=grid, n_jobs=-1, cv=cv, scoring='neg_log_loss',error_score=0)\n",
    "grid_result = grid_search.fit(final_train_ohe, y_train)\n",
    "# summarize results\n",
    "print(\"Best: %f using %s\" % (grid_result.best_score_, grid_result.best_params_))"
   ]
  },
  {
   "cell_type": "code",
   "execution_count": 152,
   "id": "ee8f5e81",
   "metadata": {},
   "outputs": [
    {
     "data": {
      "text/plain": [
       "LogisticRegression(C=0.1, class_weight='balanced')"
      ]
     },
     "execution_count": 152,
     "metadata": {},
     "output_type": "execute_result"
    }
   ],
   "source": [
    "clf = LogisticRegression(C= 0.1, penalty =\"l2\", class_weight=\"balanced\")\n",
    "clf.fit(final_train_ohe,y_train)"
   ]
  },
  {
   "cell_type": "code",
   "execution_count": 154,
   "id": "68b11db1",
   "metadata": {},
   "outputs": [
    {
     "data": {
      "text/plain": [
       "16.039758232601816"
      ]
     },
     "execution_count": 154,
     "metadata": {},
     "output_type": "execute_result"
    }
   ],
   "source": [
    "y_pred = clf.predict(final_test_ohe)\n",
    "log_loss(y_test,y_pred)"
   ]
  },
  {
   "cell_type": "code",
   "execution_count": 155,
   "id": "c4ef895a",
   "metadata": {},
   "outputs": [
    {
     "name": "stdout",
     "output_type": "stream",
     "text": [
      "              precision    recall  f1-score   support\n",
      "\n",
      "           0       0.91      0.54      0.68     12245\n",
      "           1       0.10      0.47      0.16      1248\n",
      "\n",
      "    accuracy                           0.54     13493\n",
      "   macro avg       0.50      0.51      0.42     13493\n",
      "weighted avg       0.83      0.54      0.63     13493\n",
      "\n"
     ]
    }
   ],
   "source": [
    "print(classification_report(y_test,y_pred))"
   ]
  },
  {
   "cell_type": "code",
   "execution_count": 157,
   "id": "ae774ef2",
   "metadata": {},
   "outputs": [],
   "source": [
    "#XGBoost library\n",
    "import xgboost as xgb"
   ]
  },
  {
   "cell_type": "code",
   "execution_count": 194,
   "id": "d6c753bf",
   "metadata": {},
   "outputs": [
    {
     "name": "stdout",
     "output_type": "stream",
     "text": [
      "Wall time: 967 µs\n"
     ]
    }
   ],
   "source": [
    "\n",
    "clf=xgb.XGBClassifier(n_estimators=150 , max_depth=200,sample_weight = w_array)"
   ]
  },
  {
   "cell_type": "code",
   "execution_count": 195,
   "id": "9f2fdbd5",
   "metadata": {},
   "outputs": [
    {
     "name": "stdout",
     "output_type": "stream",
     "text": [
      "[16:03:50] WARNING: ..\\src\\learner.cc:576: \n",
      "Parameters: { \"sample_weight\" } might not be used.\n",
      "\n",
      "  This could be a false alarm, with some parameters getting used by language bindings but\n",
      "  then being mistakenly passed down to XGBoost core, or some parameter actually being used\n",
      "  but getting flagged wrongly here. Please open an issue if you find any such cases.\n",
      "\n",
      "\n",
      "[16:03:50] WARNING: ..\\src\\learner.cc:1115: Starting in XGBoost 1.3.0, the default evaluation metric used with the objective 'binary:logistic' was changed from 'error' to 'logloss'. Explicitly set eval_metric if you'd like to restore the old behavior.\n",
      "Wall time: 38.3 s\n"
     ]
    },
    {
     "data": {
      "text/plain": [
       "XGBClassifier(base_score=0.5, booster='gbtree', colsample_bylevel=1,\n",
       "              colsample_bynode=1, colsample_bytree=1, enable_categorical=False,\n",
       "              gamma=0, gpu_id=-1, importance_type=None,\n",
       "              interaction_constraints='', learning_rate=0.300000012,\n",
       "              max_delta_step=0, max_depth=200, min_child_weight=1, missing=nan,\n",
       "              monotone_constraints='()', n_estimators=150, n_jobs=12,\n",
       "              num_parallel_tree=1, predictor='auto', random_state=0,\n",
       "              reg_alpha=0, reg_lambda=1,\n",
       "              sample_weight=array([9.534, 9.534, 9.534, ..., 9.534, 9.534, 9.534]),\n",
       "              scale_pos_weight=1, subsample=1, tree_method='exact',\n",
       "              validate_parameters=1, verbosity=None)"
      ]
     },
     "execution_count": 195,
     "metadata": {},
     "output_type": "execute_result"
    }
   ],
   "source": [
    "%%time\n",
    "clf=xgb.XGBClassifier(n_estimators=150 , max_depth=200,sample_weight = w_array)\n",
    "clf.fit(final_train_ohe,y_train)"
   ]
  },
  {
   "cell_type": "code",
   "execution_count": 196,
   "id": "f8d10b51",
   "metadata": {},
   "outputs": [
    {
     "data": {
      "text/plain": [
       "3.1945744416251785"
      ]
     },
     "execution_count": 196,
     "metadata": {},
     "output_type": "execute_result"
    }
   ],
   "source": [
    "y_pred = clf.predict(final_test_ohe)\n",
    "log_loss(y_test,y_pred)"
   ]
  },
  {
   "cell_type": "code",
   "execution_count": 197,
   "id": "1b18e961",
   "metadata": {},
   "outputs": [
    {
     "name": "stdout",
     "output_type": "stream",
     "text": [
      "              precision    recall  f1-score   support\n",
      "\n",
      "           0       0.91      1.00      0.95     12245\n",
      "           1       0.00      0.00      0.00      1248\n",
      "\n",
      "    accuracy                           0.91     13493\n",
      "   macro avg       0.45      0.50      0.48     13493\n",
      "weighted avg       0.82      0.91      0.86     13493\n",
      "\n"
     ]
    }
   ],
   "source": [
    "print(classification_report(y_test,y_pred))"
   ]
  },
  {
   "cell_type": "markdown",
   "id": "72d08613",
   "metadata": {},
   "source": [
    "# Test"
   ]
  },
  {
   "cell_type": "markdown",
   "id": "08f3b969",
   "metadata": {},
   "source": [
    "## training in whole data"
   ]
  },
  {
   "cell_type": "code",
   "execution_count": 205,
   "id": "c8dcc64d",
   "metadata": {},
   "outputs": [],
   "source": [
    "df = pd.read_csv('train.csv').drop(['ID','Payment Plan','Loan Title','Loan Status'],1)\n",
    "new_df_obj = df.iloc[::,[4,6,7,8,10,19,25]]\n",
    "enc = OneHotEncoder(handle_unknown='ignore')\n",
    "enc.fit(new_df_obj )\n",
    "new_df_obj = enc.transform(new_df_obj).toarray()\n",
    "new_df_obj = pd.DataFrame(new_df_obj)\n",
    "\n",
    "df_num = df.iloc[::,[0,1,2,3,5,9,11,12,13,14,15,16,17,18,20,21,22,23,24,26,27,28,29,30]]\n",
    "cols = list(df_num.columns)\n",
    "scalar = StandardScaler(with_mean=False)\n",
    "df_num = pd.DataFrame(scalar.fit_transform(df_num),columns=cols)\n",
    "final_df = pd.concat([new_df_obj,df_num],1)"
   ]
  },
  {
   "cell_type": "code",
   "execution_count": 206,
   "id": "5c76cdea",
   "metadata": {},
   "outputs": [
    {
     "name": "stdout",
     "output_type": "stream",
     "text": [
      "[16:12:17] WARNING: ..\\src\\learner.cc:576: \n",
      "Parameters: { \"sample_weight\" } might not be used.\n",
      "\n",
      "  This could be a false alarm, with some parameters getting used by language bindings but\n",
      "  then being mistakenly passed down to XGBoost core, or some parameter actually being used\n",
      "  but getting flagged wrongly here. Please open an issue if you find any such cases.\n",
      "\n",
      "\n",
      "[16:12:18] WARNING: ..\\src\\learner.cc:1115: Starting in XGBoost 1.3.0, the default evaluation metric used with the objective 'binary:logistic' was changed from 'error' to 'logloss'. Explicitly set eval_metric if you'd like to restore the old behavior.\n",
      "Wall time: 38.7 s\n"
     ]
    },
    {
     "data": {
      "text/plain": [
       "XGBClassifier(base_score=0.5, booster='gbtree', colsample_bylevel=1,\n",
       "              colsample_bynode=1, colsample_bytree=1, enable_categorical=False,\n",
       "              gamma=0, gpu_id=-1, importance_type=None,\n",
       "              interaction_constraints='', learning_rate=0.300000012,\n",
       "              max_delta_step=0, max_depth=200, min_child_weight=1, missing=nan,\n",
       "              monotone_constraints='()', n_estimators=150, n_jobs=12,\n",
       "              num_parallel_tree=1, predictor='auto', random_state=0,\n",
       "              reg_alpha=0, reg_lambda=1,\n",
       "              sample_weight=array([9.534, 9.534, 9.534, ..., 9.534, 9.534, 9.534]),\n",
       "              scale_pos_weight=1, subsample=1, tree_method='exact',\n",
       "              validate_parameters=1, verbosity=None)"
      ]
     },
     "execution_count": 206,
     "metadata": {},
     "output_type": "execute_result"
    }
   ],
   "source": [
    "%%time\n",
    "clf=xgb.XGBClassifier(n_estimators=150 , max_depth=200,sample_weight = w_array)\n",
    "clf.fit(final_train_ohe,y_train)"
   ]
  },
  {
   "cell_type": "code",
   "execution_count": 207,
   "id": "02f76733",
   "metadata": {},
   "outputs": [],
   "source": [
    "tt = pd.read_csv('test.csv').drop(['ID','Payment Plan','Loan Title','Loan Status'],1)\n",
    "new_tt = tt.iloc[::,[4,6,7,8,10,19,25]]\n",
    "new_tt = enc.transform(new_tt).toarray()\n",
    "\n",
    "new_tt = pd.DataFrame(new_tt)\n",
    "\n",
    "num_tt = tt.iloc[::,[0,1,2,3,5,9,11,12,13,14,15,16,17,18,20,21,22,23,24,26,27,28,29,30]]\n",
    "cols = list(num_tt.columns)\n",
    "\n",
    "num_tt = pd.DataFrame(scalar.transform(num_tt),columns=cols)\n",
    "final_tt = pd.concat([new_tt,num_tt],1)"
   ]
  },
  {
   "cell_type": "code",
   "execution_count": 208,
   "id": "3d223d09",
   "metadata": {},
   "outputs": [],
   "source": [
    "ans = clf.predict(final_tt)"
   ]
  },
  {
   "cell_type": "code",
   "execution_count": 209,
   "id": "ee10e50f",
   "metadata": {},
   "outputs": [],
   "source": [
    "sub = pd.read_csv('submission.csv')\n",
    "sub['Loan Status'] = ans"
   ]
  },
  {
   "cell_type": "code",
   "execution_count": 210,
   "id": "2a5b1df3",
   "metadata": {},
   "outputs": [
    {
     "data": {
      "text/plain": [
       "Loan Status\n",
       "0              28910\n",
       "1                  3\n",
       "dtype: int64"
      ]
     },
     "execution_count": 210,
     "metadata": {},
     "output_type": "execute_result"
    }
   ],
   "source": [
    "sub.value_counts()"
   ]
  },
  {
   "cell_type": "code",
   "execution_count": 211,
   "id": "e17ad999",
   "metadata": {},
   "outputs": [],
   "source": [
    "sub.to_csv('1st.csv')"
   ]
  },
  {
   "cell_type": "code",
   "execution_count": null,
   "id": "6bd1ff6a",
   "metadata": {},
   "outputs": [],
   "source": []
  }
 ],
 "metadata": {
  "kernelspec": {
   "display_name": "Python 3",
   "language": "python",
   "name": "python3"
  },
  "language_info": {
   "codemirror_mode": {
    "name": "ipython",
    "version": 3
   },
   "file_extension": ".py",
   "mimetype": "text/x-python",
   "name": "python",
   "nbconvert_exporter": "python",
   "pygments_lexer": "ipython3",
   "version": "3.8.8"
  }
 },
 "nbformat": 4,
 "nbformat_minor": 5
}
